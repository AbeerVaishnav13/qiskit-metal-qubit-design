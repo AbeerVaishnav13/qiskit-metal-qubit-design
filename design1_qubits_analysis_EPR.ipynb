{
 "cells": [
  {
   "cell_type": "code",
   "execution_count": null,
   "metadata": {},
   "outputs": [],
   "source": [
    "import warnings\n",
    "warnings.filterwarnings('ignore')"
   ]
  },
  {
   "cell_type": "code",
   "execution_count": null,
   "metadata": {},
   "outputs": [],
   "source": [
    "from qiskit_metal import designs, MetalGUI\n",
    "\n",
    "design = designs.DesignPlanar()\n",
    "design.overwrite_enabled = True"
   ]
  },
  {
   "cell_type": "code",
   "execution_count": null,
   "metadata": {},
   "outputs": [],
   "source": [
    "design.chips.main.size_x = '12mm'\n",
    "design.chips.main.size_y = '10mm'"
   ]
  },
  {
   "cell_type": "code",
   "execution_count": null,
   "metadata": {},
   "outputs": [],
   "source": [
    "gui = MetalGUI(design)"
   ]
  },
  {
   "cell_type": "code",
   "execution_count": null,
   "metadata": {},
   "outputs": [],
   "source": [
    "from qiskit_metal.qlibrary.qubits.transmon_pocket_cl import TransmonPocketCL\n",
    "\n",
    "design.delete_all_components()\n",
    "\n",
    "design_span_x = 5\n",
    "design_span_y = 3\n",
    "\n",
    "half_chip_width = design_span_x / 2\n",
    "half_chip_height = design_span_y / 2\n",
    "\n",
    "connection_pads_options = dict(\n",
    "    a = dict(loc_W=1, loc_H=-1),\n",
    "    b = dict(loc_W=1, loc_H=1),\n",
    "    c = dict(loc_W=-1, loc_H=-1)\n",
    ")\n",
    "\n",
    "transmons = []\n",
    "\n",
    "transmons.append(TransmonPocketCL(design, 'Q1',\n",
    "                      options=dict(pos_x=f'-{half_chip_width}mm',\n",
    "                                   pos_y=f'{-half_chip_height}mm',\n",
    "                                   connection_pads=dict(**connection_pads_options))))\n",
    "\n",
    "transmons.append(TransmonPocketCL(design, 'Q2',\n",
    "                      options=dict(pos_x=f'0mm',\n",
    "                                   pos_y=f'{half_chip_height}mm',\n",
    "                                   orientation=-90,\n",
    "                                   connection_pads=dict(d=dict(loc_W=-1, loc_H=1), **connection_pads_options))))\n",
    "\n",
    "transmons.append(TransmonPocketCL(design, 'Q3',\n",
    "                      options=dict(pos_x=f'0mm',\n",
    "                                   pos_y=f'{-half_chip_height}mm',\n",
    "                                   orientation=90,\n",
    "                                   connection_pads=dict(d=dict(loc_W=-1, loc_H=1), **connection_pads_options))))\n",
    "\n",
    "transmons.append(TransmonPocketCL(design, 'Q4',\n",
    "                      options=dict(pos_x=f'{half_chip_width}mm',\n",
    "                                   pos_y=f'{half_chip_height}mm',\n",
    "                                   orientation=180,\n",
    "                                   connection_pads=dict(**connection_pads_options))))\n",
    "\n",
    "gui.rebuild()\n",
    "gui.autoscale()"
   ]
  },
  {
   "cell_type": "code",
   "execution_count": null,
   "metadata": {},
   "outputs": [],
   "source": [
    "from qiskit_metal.qlibrary.tlines.meandered import RouteMeander\n",
    "from qiskit_metal import Dict\n",
    "\n",
    "fillet='99.99um'\n",
    "options = Dict(\n",
    "    meander=Dict(\n",
    "        lead_start='0.1mm',\n",
    "        lead_end='0.1mm',\n",
    "        asymmetry='0 um')\n",
    ")\n",
    "\n",
    "def connect(component_name: str, component1: str, pin1: str, component2: str, pin2: str,\n",
    "            length: str,\n",
    "            asymmetry='0 um', start_strght='0 um', end_strght='0 um', flip=False):\n",
    "    \"\"\"Connect two pins with a CPW.\"\"\"\n",
    "    myoptions = Dict(\n",
    "        pin_inputs=Dict(\n",
    "            start_pin=Dict(\n",
    "                component=component1,\n",
    "                pin=pin1),\n",
    "            end_pin=Dict(\n",
    "                component=component2,\n",
    "                pin=pin2)),\n",
    "        lead=Dict(\n",
    "            start_straight=start_strght,\n",
    "            end_straight=end_strght\n",
    "        ),\n",
    "        total_length=length,\n",
    "    fillet = '99.9um')\n",
    "    myoptions.update(options)\n",
    "    myoptions.meander.asymmetry = asymmetry\n",
    "    myoptions.meander.lead_direction_inverted = 'true' if flip else 'false'\n",
    "    return RouteMeander(design, component_name, myoptions)\n",
    "\n",
    "asym_h = 100\n",
    "asym_v = 100\n",
    "cpw = []\n",
    "\n",
    "cpw.append(connect('cpw1', 'Q1', 'b', 'Q2', 'a', '8 mm', f'+{asym_h}um', '0.1mm', '0.1mm'))\n",
    "cpw.append(connect('cpw2', 'Q3', 'b', 'Q2', 'b', '8 mm', f'-{asym_v}um', '0.6mm', '0.4mm'))\n",
    "cpw.append(connect('cpw3', 'Q4', 'b', 'Q3', 'a', '8 mm', f'+{asym_h}um', '0.1mm', '0.1mm'))\n",
    "cpw.append(connect('cpw4', 'Q3', 'd', 'Q1', 'a', '8 mm', f'-{asym_h}um', '0.1mm', '0.1mm'))\n",
    "cpw.append(connect('cpw5', 'Q2', 'd', 'Q4', 'a', '8 mm', f'-{asym_h}um', '0.1mm', '0.1mm'))\n",
    "\n",
    "\n",
    "gui.rebuild()\n",
    "gui.autoscale()"
   ]
  },
  {
   "cell_type": "code",
   "execution_count": null,
   "metadata": {},
   "outputs": [],
   "source": [
    "from qiskit_metal.qlibrary.terminations.launchpad_wb_coupled import LaunchpadWirebondCoupled\n",
    "\n",
    "readouts_lwc = []\n",
    "control_lwc = []\n",
    "\n",
    "offset_x = 0\n",
    "offset_y = 1\n",
    "\n",
    "\n",
    "#Readouts\n",
    "readouts_lwc.append(LaunchpadWirebondCoupled(design, 'R1',\n",
    "                                         options = dict(\n",
    "                                         pos_x = '-5mm',\n",
    "                                         pos_y = f'-{half_chip_height+offset_y}mm',\n",
    "                                         lead_length = '30um')))\n",
    "\n",
    "readouts_lwc.append(LaunchpadWirebondCoupled(design, 'R2',\n",
    "                                         options = dict(\n",
    "                                         pos_x = '-1mm',\n",
    "                                         pos_y = '4mm',\n",
    "                                         orientation = -90,\n",
    "                                         lead_length = '30um')))\n",
    "\n",
    "readouts_lwc.append(LaunchpadWirebondCoupled(design, 'R3',\n",
    "                                         options = dict(\n",
    "                                         pos_x = '1mm',\n",
    "                                         pos_y = '-4mm',\n",
    "                                         orientation = 90,\n",
    "                                         lead_length = '30um')))\n",
    "\n",
    "readouts_lwc.append(LaunchpadWirebondCoupled(design, 'R4',\n",
    "                                         options = dict(\n",
    "                                         pos_x = '5mm',\n",
    "                                         pos_y = f'{half_chip_height+offset_y}mm',\n",
    "                                         orientation = 180,\n",
    "                                         lead_length = '30um')))\n",
    "\n",
    "#Controls\n",
    "control_lwc.append(LaunchpadWirebondCoupled(design, 'CL1',\n",
    "                                         options = dict(\n",
    "                                         pos_x = '-5mm',\n",
    "                                         pos_y = '2mm',\n",
    "                                         lead_length = '30um')))\n",
    "\n",
    "control_lwc.append(LaunchpadWirebondCoupled(design, 'CL2',\n",
    "                                         options = dict(\n",
    "                                         pos_x = '4mm',\n",
    "                                         pos_y = '4mm',\n",
    "                                         orientation = -90,\n",
    "                                         lead_length = '30um')))\n",
    "\n",
    "control_lwc.append(LaunchpadWirebondCoupled(design, 'CL3',\n",
    "                                         options = dict(\n",
    "                                         pos_x = '-4mm',\n",
    "                                         pos_y = '-4mm',\n",
    "                                         orientation = 90,\n",
    "                                         lead_length = '30um')))\n",
    "\n",
    "control_lwc.append(LaunchpadWirebondCoupled(design, 'CL4',\n",
    "                                         options = dict(\n",
    "                                         pos_x = '5mm',\n",
    "                                         pos_y = '-2mm',\n",
    "                                         orientation = 180,\n",
    "                                         lead_length = '30um')))\n",
    "\n",
    "gui.rebuild()\n",
    "gui.autoscale()"
   ]
  },
  {
   "cell_type": "code",
   "execution_count": null,
   "metadata": {},
   "outputs": [],
   "source": [
    "readout_lines = []\n",
    "\n",
    "asym_14 = 700\n",
    "asym_23 = 700\n",
    "options = Dict(\n",
    "    lead=Dict(\n",
    "        start_straight='430um',\n",
    "        end_straight='0um'),\n",
    "    fillet='99.99um')\n",
    "\n",
    "readout_lines.append(connect('ol1', 'Q1', 'c', 'R1', 'tie', '8 mm', f'{asym_14}um'))\n",
    "readout_lines.append(connect('ol2', 'Q2', 'c', 'R2', 'tie', '8 mm', f'{asym_23}um'))\n",
    "readout_lines.append(connect('ol3', 'Q3', 'c', 'R3', 'tie', '8 mm', f'{asym_23}um'))\n",
    "readout_lines.append(connect('ol4', 'Q4', 'c', 'R4', 'tie', '8 mm', f'{asym_14}um'))\n",
    "\n",
    "gui.rebuild()\n",
    "gui.autoscale()"
   ]
  },
  {
   "cell_type": "code",
   "execution_count": null,
   "metadata": {},
   "outputs": [],
   "source": [
    "from qiskit_metal.qlibrary.tlines.anchored_path import RouteAnchors\n",
    "from collections import OrderedDict\n",
    "import numpy as np\n",
    "\n",
    "control_lines = []\n",
    "\n",
    "def connectRouteAnchor(name: str,\n",
    "                       component1: str, pin1: str, component2: str, pin2: str,\n",
    "                       anchor_points: OrderedDict) -> RouteAnchors:\n",
    "\n",
    "    options_line_cl = dict(\n",
    "        pin_inputs = dict(start_pin = dict(component = component1, pin = pin1),\n",
    "                          end_pin = dict(component = component2, pin = pin2)),\n",
    "        anchors = anchor_points,\n",
    "        lead = dict(start_straight = '200um',\n",
    "                    end_straight = '225um'),\n",
    "        fillet = fillet\n",
    "    )\n",
    "    \n",
    "    return RouteAnchors(design, name, options_line_cl)\n",
    "\n",
    "\n",
    "\n",
    "anchors1c = OrderedDict()\n",
    "anchors1c[0] = np.array([-4, -1.42])\n",
    "anchors1c[1] = np.array([-4, 2])\n",
    "\n",
    "control_lines.append(connectRouteAnchor('line_cl1', 'Q1', 'Charge_Line', 'CL1', 'tie', anchors1c))\n",
    "\n",
    "\n",
    "anchors2c = OrderedDict()\n",
    "anchors2c[0] = np.array([0.08, 3.25])\n",
    "anchors2c[1] = np.array([4, 3.25])\n",
    "\n",
    "control_lines.append(connectRouteAnchor('line_cl2', 'Q2', 'Charge_Line', 'CL2', 'tie', anchors2c))\n",
    "\n",
    "anchors3c = OrderedDict()\n",
    "anchors3c[0] = np.array([-0.08, -3.25])\n",
    "anchors3c[1] = np.array([-4, -3.25])\n",
    "\n",
    "control_lines.append(connectRouteAnchor('line_cl3', 'Q3', 'Charge_Line', 'CL3', 'tie', anchors3c))\n",
    "\n",
    "anchors4c = OrderedDict()\n",
    "anchors4c[0] = np.array([4, 1.42])\n",
    "anchors4c[1] = np.array([4, -2])\n",
    "\n",
    "control_lines.append(connectRouteAnchor('line_cl4', 'Q4', 'Charge_Line', 'CL4', 'tie', anchors4c))\n",
    "\n",
    "gui.rebuild()\n",
    "gui.autoscale()"
   ]
  },
  {
   "cell_type": "code",
   "execution_count": null,
   "metadata": {},
   "outputs": [],
   "source": [
    "gui.screenshot()"
   ]
  },
  {
   "cell_type": "code",
   "execution_count": null,
   "metadata": {},
   "outputs": [],
   "source": [
    "# Qubit Frequencies\n",
    "# Q1 : 5\n",
    "# Q2 : 5.1\n",
    "# Q3 : 5.2\n",
    "# Q4 : 5.3\n",
    "\n",
    "# Readout Frequencies\n",
    "# R1 : 7\n",
    "# R2 : 7.1\n",
    "# R3 : 7.2\n",
    "# R4 : 7.3\n",
    "\n",
    "# CPW Frequencies\n",
    "# cpw1 : 7.5\n",
    "# cpw2 : 7.6\n",
    "# cpw3 : 7.7\n",
    "# cpw4 : 7.8\n",
    "# cpw5 : 7.9"
   ]
  },
  {
   "cell_type": "markdown",
   "metadata": {},
   "source": [
    "### LOM Analyses"
   ]
  },
  {
   "cell_type": "markdown",
   "metadata": {},
   "source": [
    "#### Qubit (Q1)"
   ]
  },
  {
   "cell_type": "code",
   "execution_count": null,
   "metadata": {},
   "outputs": [],
   "source": [
    "from qiskit_metal.analyses.quantization import EPRanalysis\n",
    "eig_res1 = EPRanalysis(design, \"hfss\")\n",
    "hfss1 = eig_res1.sim.renderer\n",
    "hfss1.start()"
   ]
  },
  {
   "cell_type": "code",
   "execution_count": null,
   "metadata": {},
   "outputs": [],
   "source": [
    "transmons[0].options.pad_gap    = '40um'\n",
    "transmons[0].options.pad_width  = '405um'\n",
    "transmons[0].options.pad_height = '90um'\n",
    "gui.rebuild()\n",
    "\n",
    "hfss1.activate_ansys_design(\"Tune_Q1\", 'eigenmode')\n",
    "hfss1.render_design(['Q1'], [('Q1', 'c'), ('Q1', 'a'),('Q1', 'b'),('Q1', 'Charge_Line')])"
   ]
  },
  {
   "cell_type": "code",
   "execution_count": null,
   "metadata": {},
   "outputs": [],
   "source": [
    "# Analysis properties\n",
    "setup1 = hfss1.pinfo.setup\n",
    "setup1.passes = 10\n",
    "setup1.n_modes = 3\n",
    "print(f\"\"\"\n",
    "Number of eigenmodes to find             = {setup1.n_modes}\n",
    "Number of simulation passes              = {setup1.passes}\n",
    "Convergence freq max delta percent diff  = {setup1.delta_f}\n",
    "\"\"\")\n",
    "\n",
    "# Next 2 lines are counterinuitive, since there is no junction in this resonator.\n",
    "# However, these are necessary to make pyEPR work correctly. Please do note delete\n",
    "hfss1.pinfo.design.set_variable('Lj', '12 nH')\n",
    "hfss1.pinfo.design.set_variable('Cj', '1 fF')\n",
    "\n",
    "setup1.analyze()"
   ]
  },
  {
   "cell_type": "code",
   "execution_count": null,
   "metadata": {},
   "outputs": [],
   "source": [
    "eig_res1.sim.convergence_t, eig_res1.sim.convergence_f, _ = hfss1.get_convergences()\n",
    "eig_res1.sim.plot_convergences()"
   ]
  },
  {
   "cell_type": "code",
   "execution_count": null,
   "metadata": {},
   "outputs": [],
   "source": [
    "# eig_res1.sim.plot_fields(\"main\")\n",
    "# hfss1.save_screenshot(\"C:/Users/Nilay/Documents/GitHub/qiskit-metal-qubit-design/ansys_renders/q1_epr_e-field.png\")"
   ]
  },
  {
   "cell_type": "code",
   "execution_count": null,
   "metadata": {},
   "outputs": [],
   "source": [
    "hfss1.save_screenshot(\"C:/Users/Nilay/Documents/GitHub/qiskit-metal-qubit-design/ansys_renders/q1_epr_e-field.png\")"
   ]
  },
  {
   "cell_type": "markdown",
   "metadata": {},
   "source": [
    "#### Qubit (Q2)"
   ]
  },
  {
   "cell_type": "code",
   "execution_count": null,
   "metadata": {},
   "outputs": [],
   "source": [
    "from qiskit_metal.analyses.quantization import EPRanalysis\n",
    "eig_res2 = EPRanalysis(design, \"hfss\")\n",
    "hfss2 = eig_res2.sim.renderer\n",
    "hfss2.start()"
   ]
  },
  {
   "cell_type": "code",
   "execution_count": null,
   "metadata": {},
   "outputs": [],
   "source": [
    "transmons[1].options.pad_gap    = '40um'\n",
    "transmons[1].options.pad_width  = '378um'\n",
    "transmons[1].options.pad_height = '90um'\n",
    "gui.rebuild()\n",
    "\n",
    "hfss2.activate_ansys_design(\"Tune_Q2\", 'eigenmode')\n",
    "hfss2.render_design(['Q2'], [('Q2', 'c'), ('Q2', 'a'),('Q2', 'b'),('Q2', 'd'),('Q2', 'Charge_Line')])"
   ]
  },
  {
   "cell_type": "code",
   "execution_count": null,
   "metadata": {},
   "outputs": [],
   "source": [
    "# Analysis properties\n",
    "setup2 = hfss2.pinfo.setup\n",
    "setup2.passes = 10\n",
    "setup2.n_modes = 3\n",
    "print(f\"\"\"\n",
    "Number of eigenmodes to find             = {setup2.n_modes}\n",
    "Number of simulation passes              = {setup2.passes}\n",
    "Convergence freq max delta percent diff  = {setup2.delta_f}\n",
    "\"\"\")\n",
    "\n",
    "# Next 2 lines are counterinuitive, since there is no junction in this resonator.\n",
    "# However, these are necessary to make pyEPR work correctly. Please do note delete\n",
    "hfss2.pinfo.design.set_variable('Lj', '12 nH')\n",
    "hfss2.pinfo.design.set_variable('Cj', '1 fF')\n",
    "\n",
    "setup2.analyze()"
   ]
  },
  {
   "cell_type": "code",
   "execution_count": null,
   "metadata": {},
   "outputs": [],
   "source": [
    "eig_res2.sim.convergence_t, eig_res2.sim.convergence_f, _ = hfss2.get_convergences()\n",
    "eig_res2.sim.plot_convergences()"
   ]
  },
  {
   "cell_type": "code",
   "execution_count": null,
   "metadata": {},
   "outputs": [],
   "source": [
    "# eig_res2.sim.plot_fields(\"main\")\n",
    "# hfss2.save_screenshot(\"C:/Users/Nilay/Documents/GitHub/qiskit-metal-qubit-design/ansys_renders/q2_epr_e-field.png\")"
   ]
  },
  {
   "cell_type": "code",
   "execution_count": null,
   "metadata": {},
   "outputs": [],
   "source": [
    "hfss2.save_screenshot(\"C:/Users/Nilay/Documents/GitHub/qiskit-metal-qubit-design/ansys_renders/q2_epr_e-field.png\")"
   ]
  },
  {
   "cell_type": "markdown",
   "metadata": {},
   "source": [
    "#### Qubit (Q3)"
   ]
  },
  {
   "cell_type": "code",
   "execution_count": null,
   "metadata": {},
   "outputs": [],
   "source": [
    "from qiskit_metal.analyses.quantization import EPRanalysis\n",
    "eig_res3 = EPRanalysis(design, \"hfss\")\n",
    "hfss3 = eig_res3.sim.renderer\n",
    "hfss3.start()"
   ]
  },
  {
   "cell_type": "code",
   "execution_count": null,
   "metadata": {},
   "outputs": [],
   "source": [
    "transmons[2].options.pad_gap    = '40um'\n",
    "transmons[2].options.pad_width  = '353um'\n",
    "transmons[2].options.pad_height = '90um'\n",
    "gui.rebuild()\n",
    "\n",
    "hfss3.activate_ansys_design(\"Tune_Q3\", 'eigenmode')\n",
    "hfss3.render_design(['Q3'], [('Q3', 'c'), ('Q3', 'a'),('Q3', 'b'),('Q3', 'd'),('Q3', 'Charge_Line')])"
   ]
  },
  {
   "cell_type": "code",
   "execution_count": null,
   "metadata": {},
   "outputs": [],
   "source": [
    "# Analysis properties\n",
    "setup3 = hfss3.pinfo.setup\n",
    "setup3.passes = 10\n",
    "setup3.n_modes = 3\n",
    "print(f\"\"\"\n",
    "Number of eigenmodes to find             = {setup3.n_modes}\n",
    "Number of simulation passes              = {setup3.passes}\n",
    "Convergence freq max delta percent diff  = {setup3.delta_f}\n",
    "\"\"\")\n",
    "\n",
    "# Next 2 lines are counterinuitive, since there is no junction in this resonator.\n",
    "# However, these are necessary to make pyEPR work correctly. Please do note delete\n",
    "hfss3.pinfo.design.set_variable('Lj', '12 nH')\n",
    "hfss3.pinfo.design.set_variable('Cj', '1 fF')\n",
    "\n",
    "setup3.analyze()"
   ]
  },
  {
   "cell_type": "code",
   "execution_count": null,
   "metadata": {},
   "outputs": [],
   "source": [
    "eig_res3.sim.convergence_t, eig_res3.sim.convergence_f, _ = hfss3.get_convergences()\n",
    "eig_res3.sim.plot_convergences()"
   ]
  },
  {
   "cell_type": "code",
   "execution_count": null,
   "metadata": {},
   "outputs": [],
   "source": [
    "# eig_res3.sim.plot_fields(\"main\")\n",
    "# hfss3.save_screenshot(\"C:/Users/Nilay/Documents/GitHub/qiskit-metal-qubit-design/ansys_renders/q3_epr_e-field.png\")"
   ]
  },
  {
   "cell_type": "code",
   "execution_count": null,
   "metadata": {},
   "outputs": [],
   "source": [
    "hfss3.save_screenshot(\"C:/Users/Nilay/Documents/GitHub/qiskit-metal-qubit-design/ansys_renders/q3_epr_e-field.png\")"
   ]
  },
  {
   "cell_type": "markdown",
   "metadata": {},
   "source": [
    "#### Qubit (Q4)"
   ]
  },
  {
   "cell_type": "code",
   "execution_count": null,
   "metadata": {},
   "outputs": [],
   "source": [
    "from qiskit_metal.analyses.quantization import EPRanalysis\n",
    "eig_res4 = EPRanalysis(design, \"hfss\")\n",
    "hfss4 = eig_res4.sim.renderer\n",
    "hfss4.start()"
   ]
  },
  {
   "cell_type": "code",
   "execution_count": null,
   "metadata": {},
   "outputs": [],
   "source": [
    "transmons[3].options.pad_gap    = '40um'\n",
    "transmons[3].options.pad_width  = '344um'\n",
    "transmons[3].options.pad_height = '90um'\n",
    "gui.rebuild()\n",
    "\n",
    "hfss4.activate_ansys_design(\"Tune_Q4\", 'eigenmode')\n",
    "hfss4.render_design(['Q4'], [('Q4', 'c'), ('Q4', 'a'),('Q4', 'b'),('Q4', 'Charge_Line')])"
   ]
  },
  {
   "cell_type": "code",
   "execution_count": null,
   "metadata": {},
   "outputs": [],
   "source": [
    "# Analysis properties\n",
    "setup4 = hfss4.pinfo.setup\n",
    "setup4.passes = 10\n",
    "setup4.n_modes = 3\n",
    "print(f\"\"\"\n",
    "Number of eigenmodes to find             = {setup4.n_modes}\n",
    "Number of simulation passes              = {setup4.passes}\n",
    "Convergence freq max delta percent diff  = {setup4.delta_f}\n",
    "\"\"\")\n",
    "\n",
    "# Next 2 lines are counterinuitive, since there is no junction in this resonator.\n",
    "# However, these are necessary to make pyEPR work correctly. Please do note delete\n",
    "hfss4.pinfo.design.set_variable('Lj', '12 nH')\n",
    "hfss4.pinfo.design.set_variable('Cj', '1 fF')\n",
    "\n",
    "setup4.analyze()"
   ]
  },
  {
   "cell_type": "code",
   "execution_count": null,
   "metadata": {},
   "outputs": [],
   "source": [
    "eig_res4.sim.convergence_t, eig_res4.sim.convergence_f, _ = hfss4.get_convergences()\n",
    "eig_res4.sim.plot_convergences()"
   ]
  },
  {
   "cell_type": "code",
   "execution_count": null,
   "metadata": {},
   "outputs": [],
   "source": [
    "# eig_res4.sim.plot_fields(\"main\")\n",
    "# hfss4.save_screenshot(\"C:/Users/Nilay/Documents/GitHub/qiskit-metal-qubit-design/ansys_renders/q4_epr_e-field.png\")"
   ]
  },
  {
   "cell_type": "code",
   "execution_count": null,
   "metadata": {},
   "outputs": [],
   "source": [
    "hfss4.save_screenshot(\"C:/Users/Nilay/Documents/GitHub/qiskit-metal-qubit-design/ansys_renders/q4_epr_e-field.png\")"
   ]
  },
  {
   "cell_type": "code",
   "execution_count": null,
   "metadata": {},
   "outputs": [],
   "source": []
  }
 ],
 "metadata": {
  "kernelspec": {
   "display_name": "Python 3",
   "language": "python",
   "name": "python3"
  },
  "language_info": {
   "codemirror_mode": {
    "name": "ipython",
    "version": 3
   },
   "file_extension": ".py",
   "mimetype": "text/x-python",
   "name": "python",
   "nbconvert_exporter": "python",
   "pygments_lexer": "ipython3",
   "version": "3.8.6"
  }
 },
 "nbformat": 4,
 "nbformat_minor": 4
}
