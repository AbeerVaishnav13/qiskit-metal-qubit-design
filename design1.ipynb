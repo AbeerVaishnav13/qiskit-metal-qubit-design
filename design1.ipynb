{
 "cells": [
  {
   "cell_type": "code",
   "execution_count": 1,
   "metadata": {},
   "outputs": [],
   "source": [
    "from qiskit_metal import designs, MetalGUI\n",
    "\n",
    "design = designs.DesignPlanar()\n",
    "design.overwrite_enabled = True"
   ]
  },
  {
   "cell_type": "code",
   "execution_count": 5,
   "metadata": {},
   "outputs": [],
   "source": [
    "design.chips.main.size_x = '20mm'\n",
    "design.chips.main.size_y = '20mm'"
   ]
  },
  {
   "cell_type": "code",
   "execution_count": 11,
   "metadata": {},
   "outputs": [
    {
     "name": "stderr",
     "output_type": "stream",
     "text": [
      "WARNING:py.warnings:/Library/Frameworks/Python.framework/Versions/3.8/lib/python3.8/site-packages/qtpy/__init__.py:221: RuntimeWarning: Selected binding \"pyqt5\" could not be found, using \"pyside2\"\n",
      "  warnings.warn('Selected binding \"{}\" could not be found, '\n",
      "\n"
     ]
    }
   ],
   "source": [
    "gui = MetalGUI(design)"
   ]
  },
  {
   "cell_type": "code",
   "execution_count": 18,
   "metadata": {},
   "outputs": [
    {
     "data": {
      "text/plain": [
       "{'make_CL': True,\n",
       " 'cl_gap': '6um',\n",
       " 'cl_width': '10um',\n",
       " 'cl_length': '20um',\n",
       " 'cl_ground_gap': '6um',\n",
       " 'cl_pocket_edge': '0',\n",
       " 'cl_off_center': '50um'}"
      ]
     },
     "execution_count": 18,
     "metadata": {},
     "output_type": "execute_result"
    }
   ],
   "source": [
    "from qiskit_metal.qlibrary.qubits.transmon_pocket_cl import TransmonPocketCL\n",
    "TransmonPocketCL.default_options"
   ]
  },
  {
   "cell_type": "code",
   "execution_count": 162,
   "metadata": {},
   "outputs": [],
   "source": [
    "design.delete_all_components()\n",
    "\n",
    "design_span_x = 8\n",
    "design_span_y = 4\n",
    "\n",
    "half_chip_width = design_span_x // 2\n",
    "half_chip_height = design_span_y // 2\n",
    "\n",
    "transmon_options = dict(\n",
    "    a = dict(loc_W=1, loc_H=-1),\n",
    "    b = dict(loc_W=1, loc_H=1),\n",
    "    c = dict(loc_W=-1, loc_H=-1)\n",
    ")\n",
    "\n",
    "transmons = []\n",
    "\n",
    "transmons.append(TransmonPocketCL(design, 'Q1',\n",
    "                      options=dict(pos_x=f'-{half_chip_width}mm',\n",
    "                                   pos_y=f'{-half_chip_height}mm',\n",
    "                                   connection_pads=dict(**transmon_options))))\n",
    "\n",
    "transmons.append(TransmonPocketCL(design, 'Q2',\n",
    "                      options=dict(pos_x=f'0mm',\n",
    "                                   pos_y=f'{half_chip_height}mm',\n",
    "                                   orientation=-90,\n",
    "                                   connection_pads=dict(d=dict(loc_W=-1, loc_H=1), **transmon_options))))\n",
    "\n",
    "transmons.append(TransmonPocketCL(design, 'Q3',\n",
    "                      options=dict(pos_x=f'0mm',\n",
    "                                   pos_y=f'{-half_chip_height}mm',\n",
    "                                   orientation=90,\n",
    "                                   connection_pads=dict(d=dict(loc_W=-1, loc_H=1), **transmon_options))))\n",
    "\n",
    "transmons.append(TransmonPocketCL(design, 'Q4',\n",
    "                      options=dict(pos_x=f'{half_chip_width}mm',\n",
    "                                   pos_y=f'{half_chip_height}mm',\n",
    "                                   orientation=180,\n",
    "                                   connection_pads=dict(**transmon_options))))\n",
    "\n",
    "gui.rebuild()\n",
    "gui.autoscale()"
   ]
  },
  {
   "cell_type": "code",
   "execution_count": 163,
   "metadata": {},
   "outputs": [],
   "source": [
    "from qiskit_metal.qlibrary.tlines.meandered import RouteMeander\n",
    "from qiskit_metal import Dict\n",
    "\n",
    "fillet='99.99um'\n",
    "options = Dict(\n",
    "    meander=Dict(\n",
    "        lead_start='0.1mm',\n",
    "        lead_end='0.1mm',\n",
    "        asymmetry='0 um')\n",
    ")\n",
    "\n",
    "def connect(component_name: str, component1: str, pin1: str, component2: str, pin2: str,\n",
    "            length: str,\n",
    "            asymmetry='0 um', straight='0 um', flip=False):\n",
    "    \"\"\"Connect two pins with a CPW.\"\"\"\n",
    "    myoptions = Dict(\n",
    "        pin_inputs=Dict(\n",
    "            start_pin=Dict(\n",
    "                component=component1,\n",
    "                pin=pin1),\n",
    "            end_pin=Dict(\n",
    "                component=component2,\n",
    "                pin=pin2)),\n",
    "        lead=Dict(\n",
    "            start_straight=straight,\n",
    "            end_straight=straight\n",
    "        ),\n",
    "        total_length=length,\n",
    "    fillet = '99.9um')\n",
    "    myoptions.update(options)\n",
    "    myoptions.meander.asymmetry = asymmetry\n",
    "    myoptions.meander.lead_direction_inverted = 'true' if flip else 'false'\n",
    "    return RouteMeander(design, component_name, myoptions)\n",
    "\n",
    "asym_h = 300\n",
    "asym_v = 100\n",
    "cpw = []\n",
    "\n",
    "cpw.append(connect('cpw1', 'Q2', 'a', 'Q1', 'b', '14851.48 um', f'+{asym_h}um', '0.1mm'))\n",
    "cpw.append(connect('cpw2', 'Q3', 'b', 'Q2', 'b', '14705.88 um', f'-{asym_v}um', '1mm'))\n",
    "cpw.append(connect('cpw3', 'Q3', 'a', 'Q4', 'b', '14563.1 um', f'+{asym_h}um', '0.1mm'))\n",
    "cpw.append(connect('cpw4', 'Q3', 'd', 'Q1', 'a', '14423.07 um', f'-{asym_h}um', '0.1mm'))\n",
    "cpw.append(connect('cpw5', 'Q2', 'd', 'Q4', 'a', '14285.71 um', f'-{asym_h}um', '0.1mm'))\n",
    "\n",
    "\n",
    "gui.rebuild()\n",
    "gui.autoscale()"
   ]
  },
  {
   "cell_type": "code",
   "execution_count": 164,
   "metadata": {},
   "outputs": [],
   "source": [
    "from qiskit_metal.qlibrary.terminations.launchpad_wb_coupled import LaunchpadWirebondCoupled\n",
    "\n",
    "readouts_lwc = []\n",
    "control_lwc = []\n",
    "\n",
    "offset_x = 0\n",
    "offset_y = 1\n",
    "\n",
    "\n",
    "#Readouts\n",
    "readouts_lwc.append(LaunchpadWirebondCoupled(design, 'R1',\n",
    "                                         options = dict(\n",
    "                                         pos_x = '-6mm',\n",
    "                                         pos_y = f'-{half_chip_height+offset_y}mm',\n",
    "                                         lead_length = '30um')))\n",
    "\n",
    "readouts_lwc.append(LaunchpadWirebondCoupled(design, 'R2',\n",
    "                                         options = dict(\n",
    "                                         pos_x = '-1mm',\n",
    "                                         pos_y = '4mm',\n",
    "                                         orientation = -90,\n",
    "                                         lead_length = '30um')))\n",
    "\n",
    "readouts_lwc.append(LaunchpadWirebondCoupled(design, 'R3',\n",
    "                                         options = dict(\n",
    "                                         pos_x = '1mm',\n",
    "                                         pos_y = '-4mm',\n",
    "                                         orientation = 90,\n",
    "                                         lead_length = '30um')))\n",
    "\n",
    "readouts_lwc.append(LaunchpadWirebondCoupled(design, 'R4',\n",
    "                                         options = dict(\n",
    "                                         pos_x = '6mm',\n",
    "                                         pos_y = f'{half_chip_height+offset_y}mm',\n",
    "                                         orientation = 180,\n",
    "                                         lead_length = '30um')))\n",
    "\n",
    "#Controls\n",
    "control_lwc.append(LaunchpadWirebondCoupled(design, 'CL1',\n",
    "                                         options = dict(\n",
    "                                         pos_x = '-6mm',\n",
    "                                         pos_y = '2mm',\n",
    "                                         lead_length = '30um')))\n",
    "\n",
    "control_lwc.append(LaunchpadWirebondCoupled(design, 'CL2',\n",
    "                                         options = dict(\n",
    "                                         pos_x = '3mm',\n",
    "                                         pos_y = '4mm',\n",
    "                                         orientation = -90,\n",
    "                                         lead_length = '30um')))\n",
    "\n",
    "control_lwc.append(LaunchpadWirebondCoupled(design, 'CL3',\n",
    "                                         options = dict(\n",
    "                                         pos_x = '-3mm',\n",
    "                                         pos_y = '-4mm',\n",
    "                                         orientation = 90,\n",
    "                                         lead_length = '30um')))\n",
    "\n",
    "control_lwc.append(LaunchpadWirebondCoupled(design, 'CL4',\n",
    "                                         options = dict(\n",
    "                                         pos_x = '6mm',\n",
    "                                         pos_y = '-2mm',\n",
    "                                         orientation = 180,\n",
    "                                         lead_length = '30um')))\n",
    "\n",
    "gui.rebuild()\n",
    "gui.autoscale()"
   ]
  },
  {
   "cell_type": "code",
   "execution_count": 165,
   "metadata": {},
   "outputs": [],
   "source": [
    "output_lines = []\n",
    "\n",
    "asym_14 = 1000\n",
    "asym_23 = 1000\n",
    "options = Dict(\n",
    "    lead=Dict(\n",
    "        start_straight='430um',\n",
    "        end_straight='0um'),\n",
    "    fillet='99.99um')\n",
    "\n",
    "output_lines.append(connect('ol1', 'Q1', 'c', 'R1', 'tie', '10mm', f'{asym_14}um'))\n",
    "output_lines.append(connect('ol2', 'Q2', 'c', 'R2', 'tie', '10mm', f'{asym_23}um'))\n",
    "output_lines.append(connect('ol3', 'Q3', 'c', 'R3', 'tie', '10mm', f'{asym_23}um'))\n",
    "output_lines.append(connect('ol4', 'Q4', 'c', 'R4', 'tie', '10mm', f'{asym_14}um'))\n",
    "\n",
    "gui.rebuild()\n",
    "gui.autoscale()"
   ]
  },
  {
   "cell_type": "code",
   "execution_count": 169,
   "metadata": {},
   "outputs": [
    {
     "name": "stderr",
     "output_type": "stream",
     "text": [
      "03:58PM 00s ERROR [rebuild]: ERROR in building component name=line_cl2, error=Qiskit Metal - Designer Error: User action required. \n",
      "connect_simple() has failed. This might be due to one of two reasons. 1. Either one of the start point [-0.245  2.617] or the end point [0.  2.5] provided are inside the bounding box of another QComponent. Please move the point, or setup a \"lead\" to exit the QComponent area. 2. none of the 4 routing possibilities of this algorithm (^|_, ^^|, __|, _|^) can complete. Please use Pathfinder instead\n"
     ]
    },
    {
     "ename": "QiskitMetalDesignError",
     "evalue": "Qiskit Metal - Designer Error: User action required. \nconnect_simple() has failed. This might be due to one of two reasons. 1. Either one of the start point [-0.245  2.617] or the end point [0.  2.5] provided are inside the bounding box of another QComponent. Please move the point, or setup a \"lead\" to exit the QComponent area. 2. none of the 4 routing possibilities of this algorithm (^|_, ^^|, __|, _|^) can complete. Please use Pathfinder instead",
     "output_type": "error",
     "traceback": [
      "\u001b[0;31m---------------------------------------------------------------------------\u001b[0m",
      "\u001b[0;31mQiskitMetalDesignError\u001b[0m                    Traceback (most recent call last)",
      "\u001b[0;32m<ipython-input-169-910a19201062>\u001b[0m in \u001b[0;36m<module>\u001b[0;34m\u001b[0m\n\u001b[1;32m     18\u001b[0m             \u001b[0;34m'fillet'\u001b[0m\u001b[0;34m:\u001b[0m \u001b[0mfillet\u001b[0m\u001b[0;34m\u001b[0m\u001b[0;34m\u001b[0m\u001b[0m\n\u001b[1;32m     19\u001b[0m             }\n\u001b[0;32m---> 20\u001b[0;31m \u001b[0mcl2\u001b[0m \u001b[0;34m=\u001b[0m \u001b[0mRouteAnchors\u001b[0m\u001b[0;34m(\u001b[0m\u001b[0mdesign\u001b[0m\u001b[0;34m,\u001b[0m \u001b[0;34m'line_cl2'\u001b[0m\u001b[0;34m,\u001b[0m \u001b[0moptions_line_cl2\u001b[0m\u001b[0;34m)\u001b[0m\u001b[0;34m\u001b[0m\u001b[0;34m\u001b[0m\u001b[0m\n\u001b[0m\u001b[1;32m     21\u001b[0m \u001b[0;34m\u001b[0m\u001b[0m\n\u001b[1;32m     22\u001b[0m \u001b[0mgui\u001b[0m\u001b[0;34m.\u001b[0m\u001b[0mrebuild\u001b[0m\u001b[0;34m(\u001b[0m\u001b[0;34m)\u001b[0m\u001b[0;34m\u001b[0m\u001b[0;34m\u001b[0m\u001b[0m\n",
      "\u001b[0;32m/Library/Frameworks/Python.framework/Versions/3.8/lib/python3.8/site-packages/qiskit_metal/qlibrary/core/qroute.py\u001b[0m in \u001b[0;36m__init__\u001b[0;34m(self, design, name, options, type, **kwargs)\u001b[0m\n\u001b[1;32m    180\u001b[0m \u001b[0;34m\u001b[0m\u001b[0m\n\u001b[1;32m    181\u001b[0m         \u001b[0;31m# regular QComponent boot, including the run of make()\u001b[0m\u001b[0;34m\u001b[0m\u001b[0;34m\u001b[0m\u001b[0;34m\u001b[0m\u001b[0m\n\u001b[0;32m--> 182\u001b[0;31m         \u001b[0msuper\u001b[0m\u001b[0;34m(\u001b[0m\u001b[0;34m)\u001b[0m\u001b[0;34m.\u001b[0m\u001b[0m__init__\u001b[0m\u001b[0;34m(\u001b[0m\u001b[0mdesign\u001b[0m\u001b[0;34m,\u001b[0m \u001b[0mname\u001b[0m\u001b[0;34m,\u001b[0m \u001b[0moptions\u001b[0m\u001b[0;34m,\u001b[0m \u001b[0;34m**\u001b[0m\u001b[0mkwargs\u001b[0m\u001b[0;34m)\u001b[0m\u001b[0;34m\u001b[0m\u001b[0;34m\u001b[0m\u001b[0m\n\u001b[0m\u001b[1;32m    183\u001b[0m \u001b[0;34m\u001b[0m\u001b[0m\n\u001b[1;32m    184\u001b[0m     \u001b[0;32mdef\u001b[0m \u001b[0m_add_route_specific_options\u001b[0m\u001b[0;34m(\u001b[0m\u001b[0mself\u001b[0m\u001b[0;34m,\u001b[0m \u001b[0moptions\u001b[0m\u001b[0;34m)\u001b[0m\u001b[0;34m:\u001b[0m\u001b[0;34m\u001b[0m\u001b[0;34m\u001b[0m\u001b[0m\n",
      "\u001b[0;32m/Library/Frameworks/Python.framework/Versions/3.8/lib/python3.8/site-packages/qiskit_metal/qlibrary/core/base.py\u001b[0m in \u001b[0;36m__init__\u001b[0;34m(self, design, name, options, make, component_template)\u001b[0m\n\u001b[1;32m    249\u001b[0m         \u001b[0;31m# Make the component geometry\u001b[0m\u001b[0;34m\u001b[0m\u001b[0;34m\u001b[0m\u001b[0;34m\u001b[0m\u001b[0m\n\u001b[1;32m    250\u001b[0m         \u001b[0;32mif\u001b[0m \u001b[0mmake\u001b[0m\u001b[0;34m:\u001b[0m\u001b[0;34m\u001b[0m\u001b[0;34m\u001b[0m\u001b[0m\n\u001b[0;32m--> 251\u001b[0;31m             \u001b[0mself\u001b[0m\u001b[0;34m.\u001b[0m\u001b[0mrebuild\u001b[0m\u001b[0;34m(\u001b[0m\u001b[0;34m)\u001b[0m\u001b[0;34m\u001b[0m\u001b[0;34m\u001b[0m\u001b[0m\n\u001b[0m\u001b[1;32m    252\u001b[0m \u001b[0;34m\u001b[0m\u001b[0m\n\u001b[1;32m    253\u001b[0m     \u001b[0;34m@\u001b[0m\u001b[0mclassmethod\u001b[0m\u001b[0;34m\u001b[0m\u001b[0;34m\u001b[0m\u001b[0m\n",
      "\u001b[0;32m/Library/Frameworks/Python.framework/Versions/3.8/lib/python3.8/site-packages/qiskit_metal/qlibrary/core/base.py\u001b[0m in \u001b[0;36mrebuild\u001b[0;34m(self)\u001b[0m\n\u001b[1;32m    560\u001b[0m                 \u001b[0;34mf\"{str(datetime.now())} -- Component: {self.name} failed with error\\n: {error}\"\u001b[0m\u001b[0;34m\u001b[0m\u001b[0;34m\u001b[0m\u001b[0m\n\u001b[1;32m    561\u001b[0m             )\n\u001b[0;32m--> 562\u001b[0;31m             \u001b[0;32mraise\u001b[0m \u001b[0merror\u001b[0m\u001b[0;34m\u001b[0m\u001b[0;34m\u001b[0m\u001b[0m\n\u001b[0m\u001b[1;32m    563\u001b[0m \u001b[0;34m\u001b[0m\u001b[0m\n\u001b[1;32m    564\u001b[0m     \u001b[0;32mdef\u001b[0m \u001b[0mdelete\u001b[0m\u001b[0;34m(\u001b[0m\u001b[0mself\u001b[0m\u001b[0;34m)\u001b[0m\u001b[0;34m:\u001b[0m\u001b[0;34m\u001b[0m\u001b[0;34m\u001b[0m\u001b[0m\n",
      "\u001b[0;32m/Library/Frameworks/Python.framework/Versions/3.8/lib/python3.8/site-packages/qiskit_metal/qlibrary/core/base.py\u001b[0m in \u001b[0;36mrebuild\u001b[0;34m(self)\u001b[0m\n\u001b[1;32m    546\u001b[0m                 \u001b[0mself\u001b[0m\u001b[0;34m.\u001b[0m\u001b[0mdesign\u001b[0m\u001b[0;34m.\u001b[0m\u001b[0m_delete_all_pins_for_component\u001b[0m\u001b[0;34m(\u001b[0m\u001b[0mself\u001b[0m\u001b[0;34m.\u001b[0m\u001b[0mid\u001b[0m\u001b[0;34m)\u001b[0m\u001b[0;34m\u001b[0m\u001b[0;34m\u001b[0m\u001b[0m\n\u001b[1;32m    547\u001b[0m \u001b[0;34m\u001b[0m\u001b[0m\n\u001b[0;32m--> 548\u001b[0;31m             \u001b[0mself\u001b[0m\u001b[0;34m.\u001b[0m\u001b[0mmake\u001b[0m\u001b[0;34m(\u001b[0m\u001b[0;34m)\u001b[0m\u001b[0;34m\u001b[0m\u001b[0;34m\u001b[0m\u001b[0m\n\u001b[0m\u001b[1;32m    549\u001b[0m             \u001b[0mself\u001b[0m\u001b[0;34m.\u001b[0m\u001b[0m_made\u001b[0m \u001b[0;34m=\u001b[0m \u001b[0;32mTrue\u001b[0m\u001b[0;34m\u001b[0m\u001b[0;34m\u001b[0m\u001b[0m\n\u001b[1;32m    550\u001b[0m             \u001b[0mself\u001b[0m\u001b[0;34m.\u001b[0m\u001b[0mstatus\u001b[0m \u001b[0;34m=\u001b[0m \u001b[0;34m'good'\u001b[0m\u001b[0;34m\u001b[0m\u001b[0;34m\u001b[0m\u001b[0m\n",
      "\u001b[0;32m/Library/Frameworks/Python.framework/Versions/3.8/lib/python3.8/site-packages/qiskit_metal/qlibrary/tlines/anchored_path.py\u001b[0m in \u001b[0;36mmake\u001b[0;34m(self)\u001b[0m\n\u001b[1;32m    390\u001b[0m         \u001b[0mself\u001b[0m\u001b[0;34m.\u001b[0m\u001b[0mintermediate_pts\u001b[0m \u001b[0;34m=\u001b[0m \u001b[0mOrderedDict\u001b[0m\u001b[0;34m(\u001b[0m\u001b[0;34m)\u001b[0m\u001b[0;34m\u001b[0m\u001b[0;34m\u001b[0m\u001b[0m\n\u001b[1;32m    391\u001b[0m         \u001b[0;32mfor\u001b[0m \u001b[0marc_num\u001b[0m\u001b[0;34m,\u001b[0m \u001b[0mcoord\u001b[0m \u001b[0;32min\u001b[0m \u001b[0manchors\u001b[0m\u001b[0;34m.\u001b[0m\u001b[0mitems\u001b[0m\u001b[0;34m(\u001b[0m\u001b[0;34m)\u001b[0m\u001b[0;34m:\u001b[0m\u001b[0;34m\u001b[0m\u001b[0;34m\u001b[0m\u001b[0m\n\u001b[0;32m--> 392\u001b[0;31m             \u001b[0marc_pts\u001b[0m \u001b[0;34m=\u001b[0m \u001b[0mself\u001b[0m\u001b[0;34m.\u001b[0m\u001b[0mconnect_simple\u001b[0m\u001b[0;34m(\u001b[0m\u001b[0mself\u001b[0m\u001b[0;34m.\u001b[0m\u001b[0mget_tip\u001b[0m\u001b[0;34m(\u001b[0m\u001b[0;34m)\u001b[0m\u001b[0;34m,\u001b[0m \u001b[0mQRoutePoint\u001b[0m\u001b[0;34m(\u001b[0m\u001b[0mcoord\u001b[0m\u001b[0;34m)\u001b[0m\u001b[0;34m)\u001b[0m\u001b[0;34m\u001b[0m\u001b[0;34m\u001b[0m\u001b[0m\n\u001b[0m\u001b[1;32m    393\u001b[0m             \u001b[0;32mif\u001b[0m \u001b[0marc_pts\u001b[0m \u001b[0;32mis\u001b[0m \u001b[0;32mNone\u001b[0m\u001b[0;34m:\u001b[0m\u001b[0;34m\u001b[0m\u001b[0;34m\u001b[0m\u001b[0m\n\u001b[1;32m    394\u001b[0m                 \u001b[0mself\u001b[0m\u001b[0;34m.\u001b[0m\u001b[0mintermediate_pts\u001b[0m\u001b[0;34m[\u001b[0m\u001b[0marc_num\u001b[0m\u001b[0;34m]\u001b[0m \u001b[0;34m=\u001b[0m \u001b[0;34m[\u001b[0m\u001b[0mcoord\u001b[0m\u001b[0;34m]\u001b[0m\u001b[0;34m\u001b[0m\u001b[0;34m\u001b[0m\u001b[0m\n",
      "\u001b[0;32m/Library/Frameworks/Python.framework/Versions/3.8/lib/python3.8/site-packages/qiskit_metal/qlibrary/tlines/anchored_path.py\u001b[0m in \u001b[0;36mconnect_simple\u001b[0;34m(self, start_pt, end_pt)\u001b[0m\n\u001b[1;32m    324\u001b[0m                                                        corner6 - end) >= 0):\n\u001b[1;32m    325\u001b[0m                     \u001b[0;32mreturn\u001b[0m \u001b[0mnp\u001b[0m\u001b[0;34m.\u001b[0m\u001b[0mvstack\u001b[0m\u001b[0;34m(\u001b[0m\u001b[0;34m(\u001b[0m\u001b[0mcorner5\u001b[0m\u001b[0;34m,\u001b[0m \u001b[0mcorner6\u001b[0m\u001b[0;34m)\u001b[0m\u001b[0;34m)\u001b[0m\u001b[0;34m\u001b[0m\u001b[0;34m\u001b[0m\u001b[0m\n\u001b[0;32m--> 326\u001b[0;31m         raise QiskitMetalDesignError(\n\u001b[0m\u001b[1;32m    327\u001b[0m             \u001b[0;34m\"connect_simple() has failed. This might be due to one of two reasons. \"\u001b[0m\u001b[0;34m\u001b[0m\u001b[0;34m\u001b[0m\u001b[0m\n\u001b[1;32m    328\u001b[0m             \u001b[0;34mf\"1. Either one of the start point {start} or the end point {end} \"\u001b[0m\u001b[0;34m\u001b[0m\u001b[0;34m\u001b[0m\u001b[0m\n",
      "\u001b[0;31mQiskitMetalDesignError\u001b[0m: Qiskit Metal - Designer Error: User action required. \nconnect_simple() has failed. This might be due to one of two reasons. 1. Either one of the start point [-0.245  2.617] or the end point [0.  2.5] provided are inside the bounding box of another QComponent. Please move the point, or setup a \"lead\" to exit the QComponent area. 2. none of the 4 routing possibilities of this algorithm (^|_, ^^|, __|, _|^) can complete. Please use Pathfinder instead"
     ]
    }
   ],
   "source": [
    "from qiskit_metal.qlibrary.tlines.anchored_path import RouteAnchors\n",
    "from collections import OrderedDict\n",
    "import numpy as np\n",
    "\n",
    "jogsB_in = OrderedDict()\n",
    "jogsB_in[0] = [\"L\", '300um']\n",
    "\n",
    "anchors2c = OrderedDict()\n",
    "anchors2c[0] = np.array([0, 2.5])\n",
    "anchors2c[1] = np.array([3, 2.5])\n",
    "\n",
    "options_line_cl2 = {'pin_inputs':\n",
    "                    {'start_pin': {'component': 'Q2', 'pin': 'Charge_Line'},\n",
    "                     'end_pin': {'component': 'CL2', 'pin': 'tie'}},\n",
    "                    'lead': {'start_straight': '200um', 'end_straight': '225um',\n",
    "                             'start_jogged_extension': jogsB_in},\n",
    "                    'anchors': anchors2c,\n",
    "                    'fillet': fillet\n",
    "                    }\n",
    "cl2 = RouteAnchors(design, 'line_cl2', options_line_cl2)\n",
    "\n",
    "gui.rebuild()\n",
    "gui.autoscale()"
   ]
  },
  {
   "cell_type": "code",
   "execution_count": null,
   "metadata": {},
   "outputs": [],
   "source": [
    "# Qubit Frequencies : 5, 5.1, 5.2, 5.3\n",
    "\n",
    "# CPW Frequencies\n",
    "# cpw1 : 5.05\n",
    "# cpw2 : 5.1\n",
    "# cpw3 : 5.15\n",
    "# cpw4 : 5.2\n",
    "# cpw5 : 5.25\n",
    "\n",
    "# Readout Frequencies"
   ]
  },
  {
   "cell_type": "code",
   "execution_count": 116,
   "metadata": {},
   "outputs": [
    {
     "data": {
      "text/plain": [
       "14285.714285714284"
      ]
     },
     "execution_count": 116,
     "metadata": {},
     "output_type": "execute_result"
    }
   ],
   "source": [
    "freq = 5.25 * (10**9)\n",
    "c = 3 * (10**8)\n",
    "lamb = c / freq * (10**6)\n",
    "lamb/4"
   ]
  },
  {
   "cell_type": "code",
   "execution_count": null,
   "metadata": {},
   "outputs": [],
   "source": []
  }
 ],
 "metadata": {
  "kernelspec": {
   "display_name": "Python 3",
   "language": "python",
   "name": "python3"
  },
  "language_info": {
   "codemirror_mode": {
    "name": "ipython",
    "version": 3
   },
   "file_extension": ".py",
   "mimetype": "text/x-python",
   "name": "python",
   "nbconvert_exporter": "python",
   "pygments_lexer": "ipython3",
   "version": "3.8.6"
  }
 },
 "nbformat": 4,
 "nbformat_minor": 4
}
