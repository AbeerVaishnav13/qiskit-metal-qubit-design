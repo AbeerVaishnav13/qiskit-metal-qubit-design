{
 "cells": [
  {
   "cell_type": "code",
   "execution_count": null,
   "metadata": {},
   "outputs": [],
   "source": [
    "import warnings\n",
    "warnings.filterwarnings('ignore')"
   ]
  },
  {
   "cell_type": "code",
   "execution_count": null,
   "metadata": {},
   "outputs": [],
   "source": [
    "from qiskit_metal import designs, MetalGUI\n",
    "\n",
    "design = designs.DesignPlanar()\n",
    "design.overwrite_enabled = True"
   ]
  },
  {
   "cell_type": "code",
   "execution_count": null,
   "metadata": {},
   "outputs": [],
   "source": [
    "design.chips.main.size_x = '14mm'\n",
    "design.chips.main.size_y = '10mm'"
   ]
  },
  {
   "cell_type": "code",
   "execution_count": null,
   "metadata": {},
   "outputs": [],
   "source": [
    "gui = MetalGUI(design)"
   ]
  },
  {
   "cell_type": "code",
   "execution_count": null,
   "metadata": {},
   "outputs": [],
   "source": [
    "from qiskit_metal.qlibrary.qubits.transmon_pocket_cl import TransmonPocketCL\n",
    "\n",
    "design.delete_all_components()\n",
    "\n",
    "design_span_x = 8\n",
    "design_span_y = 4\n",
    "\n",
    "half_chip_width = design_span_x // 2\n",
    "half_chip_height = design_span_y // 2\n",
    "\n",
    "connection_pads_options = dict(\n",
    "    a = dict(loc_W=1, loc_H=-1),\n",
    "    b = dict(loc_W=1, loc_H=1),\n",
    "    c = dict(loc_W=-1, loc_H=-1)\n",
    ")\n",
    "\n",
    "transmons = []\n",
    "\n",
    "transmons.append(TransmonPocketCL(design, 'Q1',\n",
    "                      options=dict(pos_x=f'-{half_chip_width}mm',\n",
    "                                   pos_y=f'{-half_chip_height}mm',\n",
    "                                   connection_pads=dict(**connection_pads_options))))\n",
    "\n",
    "transmons.append(TransmonPocketCL(design, 'Q2',\n",
    "                      options=dict(pos_x=f'0mm',\n",
    "                                   pos_y=f'{half_chip_height}mm',\n",
    "                                   orientation=-90,\n",
    "                                   connection_pads=dict(d=dict(loc_W=-1, loc_H=1), **connection_pads_options))))\n",
    "\n",
    "transmons.append(TransmonPocketCL(design, 'Q3',\n",
    "                      options=dict(pos_x=f'0mm',\n",
    "                                   pos_y=f'{-half_chip_height}mm',\n",
    "                                   orientation=90,\n",
    "                                   connection_pads=dict(d=dict(loc_W=-1, loc_H=1), **connection_pads_options))))\n",
    "\n",
    "transmons.append(TransmonPocketCL(design, 'Q4',\n",
    "                      options=dict(pos_x=f'{half_chip_width}mm',\n",
    "                                   pos_y=f'{half_chip_height}mm',\n",
    "                                   orientation=180,\n",
    "                                   connection_pads=dict(**connection_pads_options))))\n",
    "\n",
    "gui.rebuild()\n",
    "gui.autoscale()"
   ]
  },
  {
   "cell_type": "code",
   "execution_count": null,
   "metadata": {},
   "outputs": [],
   "source": [
    "from qiskit_metal.qlibrary.tlines.meandered import RouteMeander\n",
    "from qiskit_metal import Dict\n",
    "\n",
    "fillet='99.99um'\n",
    "options = Dict(\n",
    "    meander=Dict(\n",
    "        lead_start='0.1mm',\n",
    "        lead_end='0.1mm',\n",
    "        asymmetry='0 um')\n",
    ")\n",
    "\n",
    "def connect(component_name: str, component1: str, pin1: str, component2: str, pin2: str,\n",
    "            length: str,\n",
    "            asymmetry='0 um', start_strght='0 um', end_strght='0 um', flip=False):\n",
    "    \"\"\"Connect two pins with a CPW.\"\"\"\n",
    "    myoptions = Dict(\n",
    "        pin_inputs=Dict(\n",
    "            start_pin=Dict(\n",
    "                component=component1,\n",
    "                pin=pin1),\n",
    "            end_pin=Dict(\n",
    "                component=component2,\n",
    "                pin=pin2)),\n",
    "        lead=Dict(\n",
    "            start_straight=start_strght,\n",
    "            end_straight=end_strght\n",
    "        ),\n",
    "        total_length=length,\n",
    "    fillet = '99.9um')\n",
    "    myoptions.update(options)\n",
    "    myoptions.meander.asymmetry = asymmetry\n",
    "    myoptions.meander.lead_direction_inverted = 'true' if flip else 'false'\n",
    "    return RouteMeander(design, component_name, myoptions)\n",
    "\n",
    "asym_h = 100\n",
    "asym_v = 100\n",
    "cpw = []\n",
    "\n",
    "cpw.append(connect('cpw1', 'Q2', 'a', 'Q1', 'b', '14851.48 um', f'+{asym_h}um', '0.4mm', '0.2mm'))\n",
    "cpw.append(connect('cpw2', 'Q3', 'b', 'Q2', 'b', '14705.88 um', f'-{asym_v}um', '1mm', '1mm'))\n",
    "cpw.append(connect('cpw3', 'Q3', 'a', 'Q4', 'b', '14563.1 um', f'+{asym_h}um', '0.4mm', '0.2mm'))\n",
    "cpw.append(connect('cpw4', 'Q3', 'd', 'Q1', 'a', '14423.07 um', f'-{asym_h}um', '0.1mm', '0.1mm'))\n",
    "cpw.append(connect('cpw5', 'Q2', 'd', 'Q4', 'a', '14285.71 um', f'-{asym_h}um', '0.1mm', '0.1mm'))\n",
    "\n",
    "\n",
    "gui.rebuild()\n",
    "gui.autoscale()"
   ]
  },
  {
   "cell_type": "code",
   "execution_count": null,
   "metadata": {},
   "outputs": [],
   "source": [
    "from qiskit_metal.qlibrary.terminations.launchpad_wb_coupled import LaunchpadWirebondCoupled\n",
    "\n",
    "readouts_lwc = []\n",
    "control_lwc = []\n",
    "\n",
    "offset_x = 0\n",
    "offset_y = 1\n",
    "\n",
    "\n",
    "#Readouts\n",
    "readouts_lwc.append(LaunchpadWirebondCoupled(design, 'R1',\n",
    "                                         options = dict(\n",
    "                                         pos_x = '-6mm',\n",
    "                                         pos_y = f'-{half_chip_height+offset_y}mm',\n",
    "                                         lead_length = '30um')))\n",
    "\n",
    "readouts_lwc.append(LaunchpadWirebondCoupled(design, 'R2',\n",
    "                                         options = dict(\n",
    "                                         pos_x = '-1mm',\n",
    "                                         pos_y = '4mm',\n",
    "                                         orientation = -90,\n",
    "                                         lead_length = '30um')))\n",
    "\n",
    "readouts_lwc.append(LaunchpadWirebondCoupled(design, 'R3',\n",
    "                                         options = dict(\n",
    "                                         pos_x = '1mm',\n",
    "                                         pos_y = '-4mm',\n",
    "                                         orientation = 90,\n",
    "                                         lead_length = '30um')))\n",
    "\n",
    "readouts_lwc.append(LaunchpadWirebondCoupled(design, 'R4',\n",
    "                                         options = dict(\n",
    "                                         pos_x = '6mm',\n",
    "                                         pos_y = f'{half_chip_height+offset_y}mm',\n",
    "                                         orientation = 180,\n",
    "                                         lead_length = '30um')))\n",
    "\n",
    "#Controls\n",
    "control_lwc.append(LaunchpadWirebondCoupled(design, 'CL1',\n",
    "                                         options = dict(\n",
    "                                         pos_x = '-6mm',\n",
    "                                         pos_y = '2mm',\n",
    "                                         lead_length = '30um')))\n",
    "\n",
    "control_lwc.append(LaunchpadWirebondCoupled(design, 'CL2',\n",
    "                                         options = dict(\n",
    "                                         pos_x = '4mm',\n",
    "                                         pos_y = '4mm',\n",
    "                                         orientation = -90,\n",
    "                                         lead_length = '30um')))\n",
    "\n",
    "control_lwc.append(LaunchpadWirebondCoupled(design, 'CL3',\n",
    "                                         options = dict(\n",
    "                                         pos_x = '-4mm',\n",
    "                                         pos_y = '-4mm',\n",
    "                                         orientation = 90,\n",
    "                                         lead_length = '30um')))\n",
    "\n",
    "control_lwc.append(LaunchpadWirebondCoupled(design, 'CL4',\n",
    "                                         options = dict(\n",
    "                                         pos_x = '6mm',\n",
    "                                         pos_y = '-2mm',\n",
    "                                         orientation = 180,\n",
    "                                         lead_length = '30um')))\n",
    "\n",
    "gui.rebuild()\n",
    "gui.autoscale()"
   ]
  },
  {
   "cell_type": "code",
   "execution_count": null,
   "metadata": {},
   "outputs": [],
   "source": [
    "readout_lines = []\n",
    "\n",
    "asym_14 = 1000\n",
    "asym_23 = 1000\n",
    "options = Dict(\n",
    "    lead=Dict(\n",
    "        start_straight='430um',\n",
    "        end_straight='0um'),\n",
    "    fillet='99.99um')\n",
    "\n",
    "readout_lines.append(connect('ol1', 'Q1', 'c', 'R1', 'tie', '10714.28um', f'{asym_14}um'))\n",
    "readout_lines.append(connect('ol2', 'Q2', 'c', 'R2', 'tie', '10563.38um', f'{asym_23}um'))\n",
    "readout_lines.append(connect('ol3', 'Q3', 'c', 'R3', 'tie', '10416.66um', f'{asym_23}um'))\n",
    "readout_lines.append(connect('ol4', 'Q4', 'c', 'R4', 'tie', '10273.97um', f'{asym_14}um'))\n",
    "\n",
    "gui.rebuild()\n",
    "gui.autoscale()"
   ]
  },
  {
   "cell_type": "code",
   "execution_count": null,
   "metadata": {},
   "outputs": [],
   "source": [
    "from qiskit_metal.qlibrary.tlines.anchored_path import RouteAnchors\n",
    "from collections import OrderedDict\n",
    "import numpy as np\n",
    "\n",
    "control_lines = []\n",
    "\n",
    "def connectRouteAnchor(name: str,\n",
    "                       component1: str, pin1: str, component2: str, pin2: str,\n",
    "                       anchor_points: OrderedDict) -> RouteAnchors:\n",
    "\n",
    "    options_line_cl = dict(\n",
    "        pin_inputs = dict(start_pin = dict(component = component1, pin = pin1),\n",
    "                          end_pin = dict(component = component2, pin = pin2)),\n",
    "        anchors = anchor_points,\n",
    "        lead = dict(start_straight = '200um',\n",
    "                    end_straight = '225um'),\n",
    "        fillet = fillet\n",
    "    )\n",
    "    \n",
    "    return RouteAnchors(design, name, options_line_cl)\n",
    "\n",
    "\n",
    "\n",
    "anchors1c = OrderedDict()\n",
    "anchors1c[0] = np.array([-5, -1.92])\n",
    "anchors1c[1] = np.array([-5, 2])\n",
    "\n",
    "control_lines.append(connectRouteAnchor('line_cl1', 'Q1', 'Charge_Line', 'CL1', 'tie', anchors1c))\n",
    "\n",
    "\n",
    "anchors2c = OrderedDict()\n",
    "anchors2c[0] = np.array([0.08, 3.25])\n",
    "anchors2c[1] = np.array([4, 3.25])\n",
    "\n",
    "control_lines.append(connectRouteAnchor('line_cl2', 'Q2', 'Charge_Line', 'CL2', 'tie', anchors2c))\n",
    "\n",
    "anchors3c = OrderedDict()\n",
    "anchors3c[0] = np.array([-0.08, -3.25])\n",
    "anchors3c[1] = np.array([-4, -3.25])\n",
    "\n",
    "control_lines.append(connectRouteAnchor('line_cl3', 'Q3', 'Charge_Line', 'CL3', 'tie', anchors3c))\n",
    "\n",
    "anchors4c = OrderedDict()\n",
    "anchors4c[0] = np.array([5, 1.92])\n",
    "anchors4c[1] = np.array([5, -2])\n",
    "\n",
    "control_lines.append(connectRouteAnchor('line_cl4', 'Q4', 'Charge_Line', 'CL4', 'tie', anchors4c))\n",
    "\n",
    "gui.rebuild()\n",
    "gui.autoscale()"
   ]
  },
  {
   "cell_type": "code",
   "execution_count": null,
   "metadata": {},
   "outputs": [],
   "source": [
    "gui.screenshot()"
   ]
  },
  {
   "cell_type": "code",
   "execution_count": null,
   "metadata": {},
   "outputs": [],
   "source": [
    "# Qubit Frequencies\n",
    "# Q1 : 5\n",
    "# Q2 : 5.1\n",
    "# Q3 : 5.2\n",
    "# Q4 : 5.3\n",
    "\n",
    "# CPW Frequencies\n",
    "# cpw1 : 5.05\n",
    "# cpw2 : 5.1\n",
    "# cpw3 : 5.15\n",
    "# cpw4 : 5.2\n",
    "# cpw5 : 5.25\n",
    "\n",
    "# Readout Frequencies\n",
    "# R1 : 7\n",
    "# R2 : 7.1\n",
    "# R3 : 7.2\n",
    "# R4 : 7.3"
   ]
  },
  {
   "cell_type": "code",
   "execution_count": 19,
   "metadata": {},
   "outputs": [
    {
     "data": {
      "text/plain": [
       "10273.972602739725"
      ]
     },
     "execution_count": 19,
     "metadata": {},
     "output_type": "execute_result"
    }
   ],
   "source": [
    "# CPW length calculator\n",
    "freq = 7.3 * (10**9)\n",
    "c = 3 * (10**8)\n",
    "lamb = c / freq * (10**6)\n",
    "lamb/4"
   ]
  },
  {
   "cell_type": "markdown",
   "metadata": {},
   "source": [
    "### EPR Analyses"
   ]
  },
  {
   "cell_type": "markdown",
   "metadata": {},
   "source": [
    "#### Coupler (cpw1)"
   ]
  },
  {
   "cell_type": "code",
   "execution_count": null,
   "metadata": {},
   "outputs": [],
   "source": [
    "from qiskit_metal.analyses.quantization import EPRanalysis\n",
    "eig_res1 = EPRanalysis(design, \"hfss\")\n",
    "hfss1 = eig_res1.sim.renderer\n",
    "hfss1.start()"
   ]
  },
  {
   "cell_type": "code",
   "execution_count": null,
   "metadata": {},
   "outputs": [],
   "source": [
    "hfss1.activate_ansys_design(\"Tune_CPW1\", 'eigenmode')\n",
    "hfss1.render_design(['cpw1'], [('cpw1', 'start'), ('cpw1', 'end')])\n",
    "hfss1.save_screenshot()"
   ]
  },
  {
   "cell_type": "code",
   "execution_count": null,
   "metadata": {},
   "outputs": [],
   "source": [
    "# Analysis properties\n",
    "setup1 = hfss1.pinfo.setup\n",
    "setup1.passes = 15\n",
    "print(f\"\"\"\n",
    "Number of eigenmodes to find             = {setup1.n_modes}\n",
    "Number of simulation passes              = {setup1.passes}\n",
    "Convergence freq max delta percent diff  = {setup1.delta_f}\n",
    "\"\"\")\n",
    "\n",
    "# Next 2 lines are counterinuitive, since there is no junction in this resonator.\n",
    "# However, these are necessary to make pyEPR work correctly. Please do note delete\n",
    "hfss1.pinfo.design.set_variable('Lj', '12 nH')\n",
    "hfss1.pinfo.design.set_variable('Cj', '1 fF')\n",
    "\n",
    "setup1.analyze()"
   ]
  },
  {
   "cell_type": "code",
   "execution_count": null,
   "metadata": {},
   "outputs": [],
   "source": [
    "eig_res1.sim.convergence_t, eig_res1.sim.convergence_f, _ = hfss1.get_convergences()\n",
    "eig_res1.sim.plot_convergences()"
   ]
  },
  {
   "cell_type": "markdown",
   "metadata": {
    "tags": []
   },
   "source": [
    "#### Coupler (cpw2)"
   ]
  },
  {
   "cell_type": "code",
   "execution_count": null,
   "metadata": {},
   "outputs": [],
   "source": [
    "from qiskit_metal.analyses.quantization import EPRanalysis\n",
    "eig_res2 = EPRanalysis(design, \"hfss\")\n",
    "hfss2 = eig_res2.sim.renderer\n",
    "hfss2.start()"
   ]
  },
  {
   "cell_type": "code",
   "execution_count": null,
   "metadata": {},
   "outputs": [],
   "source": [
    "hfss2.activate_ansys_design(\"Tune_CPW2\", 'eigenmode')\n",
    "hfss2.render_design(['cpw2'], [('cpw2', 'start'), ('cpw2', 'end')])\n",
    "hfss2.save_screenshot()"
   ]
  },
  {
   "cell_type": "code",
   "execution_count": null,
   "metadata": {},
   "outputs": [],
   "source": [
    "# Analysis properties\n",
    "setup2 = hfss2.pinfo.setup\n",
    "setup2.passes = 15\n",
    "print(f\"\"\"\n",
    "Number of eigenmodes to find             = {setup2.n_modes}\n",
    "Number of simulation passes              = {setup2.passes}\n",
    "Convergence freq max delta percent diff  = {setup2.delta_f}\n",
    "\"\"\")\n",
    "\n",
    "# Next 2 lines are counterinuitive, since there is no junction in this resonator.\n",
    "# However, these are necessary to make pyEPR work correctly. Please do note delete\n",
    "hfss2.pinfo.design.set_variable('Lj', '12 nH')\n",
    "hfss2.pinfo.design.set_variable('Cj', '1 fF')\n",
    "\n",
    "setup2.analyze()"
   ]
  },
  {
   "cell_type": "code",
   "execution_count": null,
   "metadata": {},
   "outputs": [],
   "source": [
    "eig_res2.sim.convergence_t, eig_res2.sim.convergence_f, _ = hfss2.get_convergences()\n",
    "eig_res2.sim.plot_convergences()"
   ]
  },
  {
   "cell_type": "markdown",
   "metadata": {
    "tags": []
   },
   "source": [
    "#### Coupler (cpw3)"
   ]
  },
  {
   "cell_type": "code",
   "execution_count": null,
   "metadata": {},
   "outputs": [],
   "source": [
    "from qiskit_metal.analyses.quantization import EPRanalysis\n",
    "eig_res3 = EPRanalysis(design, \"hfss\")\n",
    "hfss3 = eig_res3.sim.renderer\n",
    "hfss3.start()"
   ]
  },
  {
   "cell_type": "code",
   "execution_count": null,
   "metadata": {},
   "outputs": [],
   "source": [
    "hfss3.activate_ansys_design(\"Tune_CPW3\", 'eigenmode')\n",
    "hfss3.render_design(['cpw3'], [('cpw3', 'start'), ('cpw3', 'end')])\n",
    "hfss3.save_screenshot()"
   ]
  },
  {
   "cell_type": "code",
   "execution_count": null,
   "metadata": {},
   "outputs": [],
   "source": [
    "# Analysis properties\n",
    "setup3 = hfss3.pinfo.setup\n",
    "setup3.passes = 15\n",
    "print(f\"\"\"\n",
    "Number of eigenmodes to find             = {setup3.n_modes}\n",
    "Number of simulation passes              = {setup3.passes}\n",
    "Convergence freq max delta percent diff  = {setup3.delta_f}\n",
    "\"\"\")\n",
    "\n",
    "# Next 2 lines are counterinuitive, since there is no junction in this resonator.\n",
    "# However, these are necessary to make pyEPR work correctly. Please do note delete\n",
    "hfss3.pinfo.design.set_variable('Lj', '12 nH')\n",
    "hfss3.pinfo.design.set_variable('Cj', '1 fF')\n",
    "\n",
    "setup3.analyze()"
   ]
  },
  {
   "cell_type": "code",
   "execution_count": null,
   "metadata": {},
   "outputs": [],
   "source": [
    "eig_res3.sim.convergence_t, eig_res3.sim.convergence_f, _ = hfss3.get_convergences()\n",
    "eig_res3.sim.plot_convergences()"
   ]
  },
  {
   "cell_type": "markdown",
   "metadata": {
    "tags": []
   },
   "source": [
    "#### Coupler (cpw4)"
   ]
  },
  {
   "cell_type": "code",
   "execution_count": null,
   "metadata": {},
   "outputs": [],
   "source": [
    "from qiskit_metal.analyses.quantization import EPRanalysis\n",
    "eig_res4 = EPRanalysis(design, \"hfss\")\n",
    "hfss4 = eig_res4.sim.renderer\n",
    "hfss4.start()"
   ]
  },
  {
   "cell_type": "code",
   "execution_count": null,
   "metadata": {},
   "outputs": [],
   "source": [
    "hfss4.activate_ansys_design(\"Tune_CPW4\", 'eigenmode')\n",
    "hfss4.render_design(['cpw4'], [('cpw4', 'start'), ('cpw4', 'end')])\n",
    "hfss4.save_screenshot()"
   ]
  },
  {
   "cell_type": "code",
   "execution_count": null,
   "metadata": {},
   "outputs": [],
   "source": [
    "# Analysis properties\n",
    "setup4 = hfss4.pinfo.setup\n",
    "setup4.passes = 15\n",
    "print(f\"\"\"\n",
    "Number of eigenmodes to find             = {setup4.n_modes}\n",
    "Number of simulation passes              = {setup4.passes}\n",
    "Convergence freq max delta percent diff  = {setup4.delta_f}\n",
    "\"\"\")\n",
    "\n",
    "# Next 2 lines are counterinuitive, since there is no junction in this resonator.\n",
    "# However, these are necessary to make pyEPR work correctly. Please do note delete\n",
    "hfss4.pinfo.design.set_variable('Lj', '12 nH')\n",
    "hfss4.pinfo.design.set_variable('Cj', '1 fF')\n",
    "\n",
    "setup4.analyze()"
   ]
  },
  {
   "cell_type": "code",
   "execution_count": null,
   "metadata": {},
   "outputs": [],
   "source": [
    "eig_res4.sim.convergence_t, eig_res4.sim.convergence_f, _ = hfss4.get_convergences()\n",
    "eig_res4.sim.plot_convergences()"
   ]
  },
  {
   "cell_type": "markdown",
   "metadata": {
    "tags": []
   },
   "source": [
    "#### Coupler (cpw5)"
   ]
  },
  {
   "cell_type": "code",
   "execution_count": null,
   "metadata": {},
   "outputs": [],
   "source": [
    "from qiskit_metal.analyses.quantization import EPRanalysis\n",
    "eig_res5 = EPRanalysis(design, \"hfss\")\n",
    "hfss5 = eig_res5.sim.renderer\n",
    "hfss5.start()"
   ]
  },
  {
   "cell_type": "code",
   "execution_count": null,
   "metadata": {},
   "outputs": [],
   "source": [
    "hfss5.activate_ansys_design(\"Tune_CPW5\", 'eigenmode')\n",
    "hfss5.render_design(['cpw5'], [('cpw5', 'start'), ('cpw5', 'end')])\n",
    "hfss5.save_screenshot()"
   ]
  },
  {
   "cell_type": "code",
   "execution_count": null,
   "metadata": {},
   "outputs": [],
   "source": [
    "# Analysis properties\n",
    "setup5 = hfss5.pinfo.setup\n",
    "setup5.passes = 15\n",
    "print(f\"\"\"\n",
    "Number of eigenmodes to find             = {setup5.n_modes}\n",
    "Number of simulation passes              = {setup5.passes}\n",
    "Convergence freq max delta percent diff  = {setup5.delta_f}\n",
    "\"\"\")\n",
    "\n",
    "# Next 2 lines are counterinuitive, since there is no junction in this resonator.\n",
    "# However, these are necessary to make pyEPR work correctly. Please do note delete\n",
    "hfss5.pinfo.design.set_variable('Lj', '12 nH')\n",
    "hfss5.pinfo.design.set_variable('Cj', '1 fF')\n",
    "\n",
    "setup5.analyze()"
   ]
  },
  {
   "cell_type": "code",
   "execution_count": null,
   "metadata": {},
   "outputs": [],
   "source": [
    "eig_res5.sim.convergence_t, eig_res5.sim.convergence_f, _ = hfss5.get_convergences()\n",
    "eig_res5.sim.plot_convergences()"
   ]
  }
 ],
 "metadata": {
  "kernelspec": {
   "display_name": "Python 3 (ipykernel)",
   "language": "python",
   "name": "python3"
  },
  "language_info": {
   "codemirror_mode": {
    "name": "ipython",
    "version": 3
   },
   "file_extension": ".py",
   "mimetype": "text/x-python",
   "name": "python",
   "nbconvert_exporter": "python",
   "pygments_lexer": "ipython3",
   "version": "3.8.6"
  }
 },
 "nbformat": 4,
 "nbformat_minor": 4
}
